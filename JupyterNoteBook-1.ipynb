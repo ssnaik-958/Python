{
 "metadata": {
  "language_info": {
   "codemirror_mode": {
    "name": "ipython",
    "version": 3
   },
   "file_extension": ".py",
   "mimetype": "text/x-python",
   "name": "python",
   "nbconvert_exporter": "python",
   "pygments_lexer": "ipython3",
   "version": "3.8.2"
  },
  "orig_nbformat": 2,
  "kernelspec": {
   "name": "python382jvsc74a57bd04e5da85645e69727b4dc1a17b682370ea0e65e2083c8befbb22cf166dd793163",
   "display_name": "Python 3.8.2 64-bit"
  },
  "metadata": {
   "interpreter": {
    "hash": "4e5da85645e69727b4dc1a17b682370ea0e65e2083c8befbb22cf166dd793163"
   }
  }
 },
 "nbformat": 4,
 "nbformat_minor": 2,
 "cells": [
  {
   "cell_type": "code",
   "execution_count": null,
   "metadata": {},
   "outputs": [],
   "source": []
  },
  {
   "cell_type": "code",
   "execution_count": 25,
   "metadata": {},
   "outputs": [
    {
     "output_type": "stream",
     "name": "stdout",
     "text": [
      "01234567\n01234567\n01234\n01234567\n0246\n012345\n"
     ]
    }
   ],
   "source": [
    "# string indexes or slicing\n",
    "selfish = \"01234567\"\n",
    "#[start:], [start:stop before it], [start:stop:stepover],[:stop],[::stepover]\n",
    "print(selfish[0:])\n",
    "print(selfish[:8])\n",
    "print(selfish[0:5])\n",
    "print(selfish[0:8:1])\n",
    "print(selfish[0:8:2])\n",
    "print(selfish[0:-2])\n"
   ]
  },
  {
   "cell_type": "code",
   "execution_count": 16,
   "metadata": {},
   "outputs": [
    {
     "output_type": "stream",
     "name": "stdout",
     "text": [
      "It's \"kind of\" sunny.\n"
     ]
    }
   ],
   "source": [
    "# escape character\n",
    "weather = 'It\\'s \\\"kind of\\\" sunny.'\n",
    "print(weather)"
   ]
  },
  {
   "cell_type": "code",
   "execution_count": 19,
   "metadata": {},
   "outputs": [
    {
     "output_type": "stream",
     "name": "stdout",
     "text": [
      "hi siva you are 22 years old.\n"
     ]
    }
   ],
   "source": [
    "# formatted string\n",
    "name = 'siva'\n",
    "age = 22\n",
    "print(f'hi {name} you are {age} years old.')# python 3\n"
   ]
  },
  {
   "cell_type": "code",
   "execution_count": 5,
   "metadata": {},
   "outputs": [
    {
     "output_type": "stream",
     "name": "stdout",
     "text": [
      "siva\n2\n3.41\n24.6\n"
     ]
    }
   ],
   "source": [
    "# variables\r\n",
    "a,b,c = 'siva',2,3.41\r\n",
    "iq = 123 \r\n",
    "user_age = iq/5\r\n",
    "print(a)\r\n",
    "print(b)\r\n",
    "print(c)\r\n",
    "print(user_age)"
   ]
  },
  {
   "cell_type": "code",
   "execution_count": 9,
   "metadata": {},
   "outputs": [
    {
     "output_type": "stream",
     "name": "stdout",
     "text": [
      "<class 'int'>\nsiva sankar\n"
     ]
    }
   ],
   "source": [
    "# string concatenation and type class\n",
    "print(type(3))\n",
    "first_name = 'siva'\n",
    "last_name = 'sankar'\n",
    "full_name = first_name + \" \"+ last_name\n",
    "print(full_name);"
   ]
  }
 ]
}